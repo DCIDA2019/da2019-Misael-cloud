{
 "cells": [
  {
   "cell_type": "code",
   "execution_count": 1,
   "metadata": {},
   "outputs": [],
   "source": [
    "import numpy as np\n",
    "import math as mt\n",
    "import matplotlib.pyplot as plt\n",
    "import pandas as pd"
   ]
  },
  {
   "cell_type": "markdown",
   "metadata": {},
   "source": [
    "# Ejercicio tomado de curso en Udacity"
   ]
  },
  {
   "cell_type": "code",
   "execution_count": 2,
   "metadata": {},
   "outputs": [],
   "source": [
    "weather  = pd.read_csv('weather-underground.csv')"
   ]
  },
  {
   "cell_type": "code",
   "execution_count": 3,
   "metadata": {},
   "outputs": [
    {
     "data": {
      "text/plain": [
       "Index(['date', 'maxpressurem', 'maxdewptm', 'maxpressurei', 'maxdewpti',\n",
       "       'since1julheatingdegreedaysnormal', 'heatingdegreedaysnormal',\n",
       "       'since1sepcoolingdegreedaysnormal', 'hail', 'since1julsnowfallm',\n",
       "       'since1julheatingdegreedays', 'maxvisi',\n",
       "       'since1sepheatingdegreedaysnormal', 'heatingdegreedays', 'mindewptm',\n",
       "       'since1sepheatingdegreedays', 'maxwspdm', 'since1julsnowfalli',\n",
       "       'since1sepcoolingdegreedays', 'snow', 'meanvism', 'meandewptm',\n",
       "       'snowdepthm', 'meanvisi', 'fog', 'snowdepthi', 'minvism',\n",
       "       'since1jancoolingdegreedays', 'minvisi', 'coolingdegreedaysnormal',\n",
       "       'gdegreedays', 'maxwspdi', 'meanwindspdi', 'meanpressurei',\n",
       "       'monthtodateheatingdegreedaysnormal', 'meanwindspdm', 'meanpressurem',\n",
       "       'tornado', 'mindewpti', 'mintempi', 'meandewpti', 'rain', 'mintempm',\n",
       "       'minhumidity', 'precipsource', 'minwspdi', 'meanwdird', 'meanwdire',\n",
       "       'minwspdm', 'monthtodatesnowfalli',\n",
       "       'monthtodatecoolingdegreedaysnormal', 'monthtodatesnowfallm',\n",
       "       'maxhumidity', 'coolingdegreedays', 'maxtempm', 'minpressurei',\n",
       "       'monthtodatecoolingdegreedays', 'maxtempi', 'minpressurem', 'humidity',\n",
       "       'precipi', 'snowfalli', 'since1jancoolingdegreedaysnormal', 'precipm',\n",
       "       'snowfallm', 'thunder', 'monthtodateheatingdegreedays', 'meantempi',\n",
       "       'maxvism', 'meantempm'],\n",
       "      dtype='object')"
      ]
     },
     "execution_count": 3,
     "metadata": {},
     "output_type": "execute_result"
    }
   ],
   "source": [
    "weather.keys()"
   ]
  },
  {
   "cell_type": "markdown",
   "metadata": {},
   "source": [
    "__________________________________________________________________________________________________"
   ]
  },
  {
   "cell_type": "markdown",
   "metadata": {},
   "source": [
    "¿Cuantos días ha llovido?"
   ]
  },
  {
   "cell_type": "code",
   "execution_count": 4,
   "metadata": {},
   "outputs": [
    {
     "name": "stdout",
     "output_type": "stream",
     "text": [
      "Ha llovido 10 días\n"
     ]
    }
   ],
   "source": [
    "print('Ha llovido',weather.rain[weather.rain != 0].shape[0], 'días')"
   ]
  },
  {
   "cell_type": "markdown",
   "metadata": {},
   "source": [
    "¿Cuál ha sido la temperatura máxima para días con neblina y dias sin neblina?"
   ]
  },
  {
   "cell_type": "code",
   "execution_count": 5,
   "metadata": {},
   "outputs": [
    {
     "data": {
      "text/plain": [
       "date        2011-05-24\n",
       "maxtempi            81\n",
       "dtype: object"
      ]
     },
     "execution_count": 5,
     "metadata": {},
     "output_type": "execute_result"
    }
   ],
   "source": [
    "weather[['date','maxtempi']][weather.fog != 0].max()"
   ]
  },
  {
   "cell_type": "code",
   "execution_count": 6,
   "metadata": {},
   "outputs": [
    {
     "data": {
      "text/plain": [
       "date        2011-05-30\n",
       "maxtempi            86\n",
       "dtype: object"
      ]
     },
     "execution_count": 6,
     "metadata": {},
     "output_type": "execute_result"
    }
   ],
   "source": [
    "weather[['date','maxtempi']][weather.fog == 0.].max()"
   ]
  },
  {
   "cell_type": "markdown",
   "metadata": {},
   "source": [
    "¿Cuál es la temperatura promedio durante fines de semana?"
   ]
  },
  {
   "cell_type": "code",
   "execution_count": 7,
   "metadata": {},
   "outputs": [
    {
     "name": "stdout",
     "output_type": "stream",
     "text": [
      "la temperatura promedio durante fines de semana es:  18.33 F\n"
     ]
    }
   ],
   "source": [
    "T_mean_fds = np.round(pd.concat([weather[0::7].meantempm,weather[6::7].meantempm]).mean(),2)\n",
    "print('la temperatura promedio durante fines de semana es: ',T_mean_fds, 'F')"
   ]
  },
  {
   "cell_type": "code",
   "execution_count": 8,
   "metadata": {},
   "outputs": [
    {
     "name": "stdout",
     "output_type": "stream",
     "text": [
      "la temperatura promedio durante fines de semana es:  65.11 F\n"
     ]
    }
   ],
   "source": [
    "T_mean_fds = np.round(pd.concat([weather[0::7].meantempi,weather[6::7].meantempi]).mean(),2)\n",
    "print('la temperatura promedio durante fines de semana es: ',T_mean_fds, 'F')"
   ]
  },
  {
   "cell_type": "markdown",
   "metadata": {},
   "source": [
    "¿Cuál es el promedio de la temperatura minima en días lluviosos que tienen una temperatura minima de 55 grados F?"
   ]
  },
  {
   "cell_type": "code",
   "execution_count": 9,
   "metadata": {},
   "outputs": [
    {
     "name": "stdout",
     "output_type": "stream",
     "text": [
      "La promedio de la temperatura minima en días lluviosos que tienen una temperatura minima de 55 grados F es 59.17\n"
     ]
    }
   ],
   "source": [
    "T_mean_55 = np.round(weather.mintempi[weather.rain != 0][weather.mintempi[weather.rain != 0]>=55].mean(),2)\n",
    "print('La promedio de la temperatura minima en días lluviosos que tienen una temperatura minima de 55 grados F es',T_mean_55)"
   ]
  },
  {
   "cell_type": "markdown",
   "metadata": {},
   "source": [
    "________________________________________________________"
   ]
  },
  {
   "cell_type": "markdown",
   "metadata": {},
   "source": [
    "## Establece otras preguntas, y respóndelas."
   ]
  },
  {
   "cell_type": "markdown",
   "metadata": {},
   "source": [
    "¿Cuántos días ha nevado?"
   ]
  },
  {
   "cell_type": "code",
   "execution_count": 10,
   "metadata": {},
   "outputs": [
    {
     "name": "stdout",
     "output_type": "stream",
     "text": [
      "Ha nevado 0 días\n"
     ]
    }
   ],
   "source": [
    "print('Ha nevado',weather.snow[weather.snow != 0].shape[0], 'días')"
   ]
  },
  {
   "cell_type": "markdown",
   "metadata": {},
   "source": [
    "¿Cuál ha sido la humedad máxima para días con lluvia y dias sin lluvia?"
   ]
  },
  {
   "cell_type": "code",
   "execution_count": 11,
   "metadata": {},
   "outputs": [
    {
     "data": {
      "text/plain": [
       "date           2011-05-30\n",
       "maxhumidity           100\n",
       "dtype: object"
      ]
     },
     "execution_count": 11,
     "metadata": {},
     "output_type": "execute_result"
    }
   ],
   "source": [
    "weather[['date','maxhumidity']][weather.rain != 0].max()"
   ]
  },
  {
   "cell_type": "code",
   "execution_count": 13,
   "metadata": {},
   "outputs": [
    {
     "data": {
      "text/plain": [
       "date           2011-05-29\n",
       "maxhumidity           100\n",
       "dtype: object"
      ]
     },
     "execution_count": 13,
     "metadata": {},
     "output_type": "execute_result"
    }
   ],
   "source": [
    "weather[['date','maxhumidity']][weather.rain == 0].max()"
   ]
  },
  {
   "cell_type": "code",
   "execution_count": null,
   "metadata": {},
   "outputs": [],
   "source": []
  }
 ],
 "metadata": {
  "kernelspec": {
   "display_name": "Python 3",
   "language": "python",
   "name": "python3"
  },
  "language_info": {
   "codemirror_mode": {
    "name": "ipython",
    "version": 3
   },
   "file_extension": ".py",
   "mimetype": "text/x-python",
   "name": "python",
   "nbconvert_exporter": "python",
   "pygments_lexer": "ipython3",
   "version": "3.7.3"
  }
 },
 "nbformat": 4,
 "nbformat_minor": 2
}
